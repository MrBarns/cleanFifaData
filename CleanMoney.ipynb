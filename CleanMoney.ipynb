{
 "cells": [
  {
   "cell_type": "markdown",
   "id": "2c6e342b",
   "metadata": {},
   "source": [
    "# The Money Columns\n",
    "\n",
    "* wage\n",
    "* release_clause\n",
    "* value"
   ]
  },
  {
   "cell_type": "code",
   "execution_count": 1,
   "id": "77c0760a",
   "metadata": {},
   "outputs": [],
   "source": [
    "# Imports\n",
    "\n",
    "import pandas as pd\n",
    "import numpy as np\n",
    "import re"
   ]
  },
  {
   "cell_type": "code",
   "execution_count": 2,
   "id": "c6ff0f54",
   "metadata": {},
   "outputs": [
    {
     "name": "stderr",
     "output_type": "stream",
     "text": [
      "C:\\Users\\T. Barnes\\AppData\\Local\\Temp\\ipykernel_17908\\3167816903.py:3: DtypeWarning: Columns (76) have mixed types. Specify dtype option on import or set low_memory=False.\n",
      "  fifa = pd.read_csv(r\"C:\\Users\\T. Barnes\\Documents\\Data Science\\DataCleaningChallenge\\Working_on\\rawfifa_wed.csv\")\n"
     ]
    },
    {
     "data": {
      "text/html": [
       "<div>\n",
       "<style scoped>\n",
       "    .dataframe tbody tr th:only-of-type {\n",
       "        vertical-align: middle;\n",
       "    }\n",
       "\n",
       "    .dataframe tbody tr th {\n",
       "        vertical-align: top;\n",
       "    }\n",
       "\n",
       "    .dataframe thead th {\n",
       "        text-align: right;\n",
       "    }\n",
       "</style>\n",
       "<table border=\"1\" class=\"dataframe\">\n",
       "  <thead>\n",
       "    <tr style=\"text-align: right;\">\n",
       "      <th></th>\n",
       "      <th>id</th>\n",
       "      <th>name</th>\n",
       "      <th>longname</th>\n",
       "      <th>photourl</th>\n",
       "      <th>playerurl</th>\n",
       "      <th>nationality</th>\n",
       "      <th>age</th>\n",
       "      <th>ova</th>\n",
       "      <th>pot</th>\n",
       "      <th>club</th>\n",
       "      <th>...</th>\n",
       "      <th>a_w</th>\n",
       "      <th>d_w</th>\n",
       "      <th>ir</th>\n",
       "      <th>pac</th>\n",
       "      <th>sho</th>\n",
       "      <th>pas</th>\n",
       "      <th>dri</th>\n",
       "      <th>def</th>\n",
       "      <th>phy</th>\n",
       "      <th>hits</th>\n",
       "    </tr>\n",
       "  </thead>\n",
       "  <tbody>\n",
       "    <tr>\n",
       "      <th>0</th>\n",
       "      <td>158023</td>\n",
       "      <td>L. Messi</td>\n",
       "      <td>Lionel Messi</td>\n",
       "      <td>https://cdn.sofifa.com/players/158/023/21_60.png</td>\n",
       "      <td>http://sofifa.com/player/158023/lionel-messi/2...</td>\n",
       "      <td>Argentina</td>\n",
       "      <td>33</td>\n",
       "      <td>93</td>\n",
       "      <td>93</td>\n",
       "      <td>FC Barcelona</td>\n",
       "      <td>...</td>\n",
       "      <td>Medium</td>\n",
       "      <td>Low</td>\n",
       "      <td>5 ★</td>\n",
       "      <td>85</td>\n",
       "      <td>92</td>\n",
       "      <td>91</td>\n",
       "      <td>95</td>\n",
       "      <td>38</td>\n",
       "      <td>65</td>\n",
       "      <td>771</td>\n",
       "    </tr>\n",
       "    <tr>\n",
       "      <th>1</th>\n",
       "      <td>20801</td>\n",
       "      <td>Cristiano Ronaldo</td>\n",
       "      <td>C. Ronaldo dos Santos Aveiro</td>\n",
       "      <td>https://cdn.sofifa.com/players/020/801/21_60.png</td>\n",
       "      <td>http://sofifa.com/player/20801/c-ronaldo-dos-s...</td>\n",
       "      <td>Portugal</td>\n",
       "      <td>35</td>\n",
       "      <td>92</td>\n",
       "      <td>92</td>\n",
       "      <td>Juventus</td>\n",
       "      <td>...</td>\n",
       "      <td>High</td>\n",
       "      <td>Low</td>\n",
       "      <td>5 ★</td>\n",
       "      <td>89</td>\n",
       "      <td>93</td>\n",
       "      <td>81</td>\n",
       "      <td>89</td>\n",
       "      <td>35</td>\n",
       "      <td>77</td>\n",
       "      <td>562</td>\n",
       "    </tr>\n",
       "    <tr>\n",
       "      <th>2</th>\n",
       "      <td>200389</td>\n",
       "      <td>J. Oblak</td>\n",
       "      <td>Jan Oblak</td>\n",
       "      <td>https://cdn.sofifa.com/players/200/389/21_60.png</td>\n",
       "      <td>http://sofifa.com/player/200389/jan-oblak/210006/</td>\n",
       "      <td>Slovenia</td>\n",
       "      <td>27</td>\n",
       "      <td>91</td>\n",
       "      <td>93</td>\n",
       "      <td>Atlético Madrid</td>\n",
       "      <td>...</td>\n",
       "      <td>Medium</td>\n",
       "      <td>Medium</td>\n",
       "      <td>3 ★</td>\n",
       "      <td>87</td>\n",
       "      <td>92</td>\n",
       "      <td>78</td>\n",
       "      <td>90</td>\n",
       "      <td>52</td>\n",
       "      <td>90</td>\n",
       "      <td>150</td>\n",
       "    </tr>\n",
       "    <tr>\n",
       "      <th>3</th>\n",
       "      <td>192985</td>\n",
       "      <td>K. De Bruyne</td>\n",
       "      <td>Kevin De Bruyne</td>\n",
       "      <td>https://cdn.sofifa.com/players/192/985/21_60.png</td>\n",
       "      <td>http://sofifa.com/player/192985/kevin-de-bruyn...</td>\n",
       "      <td>Belgium</td>\n",
       "      <td>29</td>\n",
       "      <td>91</td>\n",
       "      <td>91</td>\n",
       "      <td>Manchester City</td>\n",
       "      <td>...</td>\n",
       "      <td>High</td>\n",
       "      <td>High</td>\n",
       "      <td>4 ★</td>\n",
       "      <td>76</td>\n",
       "      <td>86</td>\n",
       "      <td>93</td>\n",
       "      <td>88</td>\n",
       "      <td>64</td>\n",
       "      <td>78</td>\n",
       "      <td>207</td>\n",
       "    </tr>\n",
       "    <tr>\n",
       "      <th>4</th>\n",
       "      <td>190871</td>\n",
       "      <td>Neymar Jr</td>\n",
       "      <td>Neymar da Silva Santos Jr.</td>\n",
       "      <td>https://cdn.sofifa.com/players/190/871/21_60.png</td>\n",
       "      <td>http://sofifa.com/player/190871/neymar-da-silv...</td>\n",
       "      <td>Brazil</td>\n",
       "      <td>28</td>\n",
       "      <td>91</td>\n",
       "      <td>91</td>\n",
       "      <td>Paris Saint-Germain</td>\n",
       "      <td>...</td>\n",
       "      <td>High</td>\n",
       "      <td>Medium</td>\n",
       "      <td>5 ★</td>\n",
       "      <td>91</td>\n",
       "      <td>85</td>\n",
       "      <td>86</td>\n",
       "      <td>94</td>\n",
       "      <td>36</td>\n",
       "      <td>59</td>\n",
       "      <td>595</td>\n",
       "    </tr>\n",
       "  </tbody>\n",
       "</table>\n",
       "<p>5 rows × 77 columns</p>\n",
       "</div>"
      ],
      "text/plain": [
       "       id               name                      longname  \\\n",
       "0  158023           L. Messi                  Lionel Messi   \n",
       "1   20801  Cristiano Ronaldo  C. Ronaldo dos Santos Aveiro   \n",
       "2  200389           J. Oblak                     Jan Oblak   \n",
       "3  192985       K. De Bruyne               Kevin De Bruyne   \n",
       "4  190871          Neymar Jr    Neymar da Silva Santos Jr.   \n",
       "\n",
       "                                           photourl  \\\n",
       "0  https://cdn.sofifa.com/players/158/023/21_60.png   \n",
       "1  https://cdn.sofifa.com/players/020/801/21_60.png   \n",
       "2  https://cdn.sofifa.com/players/200/389/21_60.png   \n",
       "3  https://cdn.sofifa.com/players/192/985/21_60.png   \n",
       "4  https://cdn.sofifa.com/players/190/871/21_60.png   \n",
       "\n",
       "                                           playerurl nationality  age  ova  \\\n",
       "0  http://sofifa.com/player/158023/lionel-messi/2...   Argentina   33   93   \n",
       "1  http://sofifa.com/player/20801/c-ronaldo-dos-s...    Portugal   35   92   \n",
       "2  http://sofifa.com/player/200389/jan-oblak/210006/    Slovenia   27   91   \n",
       "3  http://sofifa.com/player/192985/kevin-de-bruyn...     Belgium   29   91   \n",
       "4  http://sofifa.com/player/190871/neymar-da-silv...      Brazil   28   91   \n",
       "\n",
       "   pot                 club  ...     a_w     d_w   ir  pac sho  pas dri  def  \\\n",
       "0   93         FC Barcelona  ...  Medium     Low  5 ★   85  92   91  95   38   \n",
       "1   92             Juventus  ...    High     Low  5 ★   89  93   81  89   35   \n",
       "2   93      Atlético Madrid  ...  Medium  Medium  3 ★   87  92   78  90   52   \n",
       "3   91      Manchester City  ...    High    High  4 ★   76  86   93  88   64   \n",
       "4   91  Paris Saint-Germain  ...    High  Medium  5 ★   91  85   86  94   36   \n",
       "\n",
       "   phy hits  \n",
       "0   65  771  \n",
       "1   77  562  \n",
       "2   90  150  \n",
       "3   78  207  \n",
       "4   59  595  \n",
       "\n",
       "[5 rows x 77 columns]"
      ]
     },
     "execution_count": 2,
     "metadata": {},
     "output_type": "execute_result"
    }
   ],
   "source": [
    "# Load data from last checkpoint\n",
    "\n",
    "fifa = pd.read_csv(r\"C:\\Users\\T. Barnes\\Documents\\Data Science\\DataCleaningChallenge\\Working_on\\rawfifa_wed.csv\")\n",
    "fifa.head()"
   ]
  },
  {
   "cell_type": "code",
   "execution_count": 3,
   "id": "4780769a",
   "metadata": {},
   "outputs": [
    {
     "data": {
      "text/html": [
       "<div>\n",
       "<style scoped>\n",
       "    .dataframe tbody tr th:only-of-type {\n",
       "        vertical-align: middle;\n",
       "    }\n",
       "\n",
       "    .dataframe tbody tr th {\n",
       "        vertical-align: top;\n",
       "    }\n",
       "\n",
       "    .dataframe thead th {\n",
       "        text-align: right;\n",
       "    }\n",
       "</style>\n",
       "<table border=\"1\" class=\"dataframe\">\n",
       "  <thead>\n",
       "    <tr style=\"text-align: right;\">\n",
       "      <th></th>\n",
       "      <th>wage</th>\n",
       "      <th>value</th>\n",
       "      <th>release_clause</th>\n",
       "    </tr>\n",
       "  </thead>\n",
       "  <tbody>\n",
       "    <tr>\n",
       "      <th>0</th>\n",
       "      <td>€560K</td>\n",
       "      <td>€103.5M</td>\n",
       "      <td>€138.4M</td>\n",
       "    </tr>\n",
       "    <tr>\n",
       "      <th>1</th>\n",
       "      <td>€220K</td>\n",
       "      <td>€63M</td>\n",
       "      <td>€75.9M</td>\n",
       "    </tr>\n",
       "    <tr>\n",
       "      <th>2</th>\n",
       "      <td>€125K</td>\n",
       "      <td>€120M</td>\n",
       "      <td>€159.4M</td>\n",
       "    </tr>\n",
       "    <tr>\n",
       "      <th>3</th>\n",
       "      <td>€370K</td>\n",
       "      <td>€129M</td>\n",
       "      <td>€161M</td>\n",
       "    </tr>\n",
       "    <tr>\n",
       "      <th>4</th>\n",
       "      <td>€270K</td>\n",
       "      <td>€132M</td>\n",
       "      <td>€166.5M</td>\n",
       "    </tr>\n",
       "    <tr>\n",
       "      <th>...</th>\n",
       "      <td>...</td>\n",
       "      <td>...</td>\n",
       "      <td>...</td>\n",
       "    </tr>\n",
       "    <tr>\n",
       "      <th>18974</th>\n",
       "      <td>€1K</td>\n",
       "      <td>€100K</td>\n",
       "      <td>€70K</td>\n",
       "    </tr>\n",
       "    <tr>\n",
       "      <th>18975</th>\n",
       "      <td>€500</td>\n",
       "      <td>€130K</td>\n",
       "      <td>€165K</td>\n",
       "    </tr>\n",
       "    <tr>\n",
       "      <th>18976</th>\n",
       "      <td>€500</td>\n",
       "      <td>€120K</td>\n",
       "      <td>€131K</td>\n",
       "    </tr>\n",
       "    <tr>\n",
       "      <th>18977</th>\n",
       "      <td>€2K</td>\n",
       "      <td>€100K</td>\n",
       "      <td>€88K</td>\n",
       "    </tr>\n",
       "    <tr>\n",
       "      <th>18978</th>\n",
       "      <td>€1K</td>\n",
       "      <td>€100K</td>\n",
       "      <td>€79K</td>\n",
       "    </tr>\n",
       "  </tbody>\n",
       "</table>\n",
       "<p>18979 rows × 3 columns</p>\n",
       "</div>"
      ],
      "text/plain": [
       "        wage    value release_clause\n",
       "0      €560K  €103.5M        €138.4M\n",
       "1      €220K     €63M         €75.9M\n",
       "2      €125K    €120M        €159.4M\n",
       "3      €370K    €129M          €161M\n",
       "4      €270K    €132M        €166.5M\n",
       "...      ...      ...            ...\n",
       "18974    €1K    €100K           €70K\n",
       "18975   €500    €130K          €165K\n",
       "18976   €500    €120K          €131K\n",
       "18977    €2K    €100K           €88K\n",
       "18978    €1K    €100K           €79K\n",
       "\n",
       "[18979 rows x 3 columns]"
      ]
     },
     "execution_count": 3,
     "metadata": {},
     "output_type": "execute_result"
    }
   ],
   "source": [
    "# Inspect columns of interest\n",
    "\n",
    "fifa[['wage', 'value', 'release_clause']]"
   ]
  },
  {
   "cell_type": "markdown",
   "id": "47eb34b0",
   "metadata": {},
   "source": [
    "## Wage\n",
    "\n",
    "Remove € and multiply values containing K by 1000"
   ]
  },
  {
   "cell_type": "code",
   "execution_count": 4,
   "id": "9c44099f",
   "metadata": {},
   "outputs": [],
   "source": [
    "# Remove €\n",
    "\n",
    "fifa.wage = [x.replace(\"€\", \"\") for x in fifa.wage]"
   ]
  },
  {
   "cell_type": "code",
   "execution_count": 7,
   "id": "82b4191f",
   "metadata": {},
   "outputs": [],
   "source": [
    "# Multiply values\n",
    "fifa.wage = [str(int(x.replace(\"K\", \"\")) * 1000) if \"K\" in x else x for x in fifa.wage]"
   ]
  },
  {
   "cell_type": "code",
   "execution_count": 8,
   "id": "69ebaa1c",
   "metadata": {},
   "outputs": [],
   "source": [
    "# Change data types to int\n",
    "\n",
    "fifa.wage = [int(x) for x in fifa.wage]"
   ]
  },
  {
   "cell_type": "markdown",
   "id": "7f05abd1",
   "metadata": {},
   "source": [
    "## value\n",
    "\n",
    "value contains both M and K values."
   ]
  },
  {
   "cell_type": "code",
   "execution_count": 14,
   "id": "9a564e64",
   "metadata": {},
   "outputs": [
    {
     "data": {
      "text/plain": [
       "289      €0\n",
       "292      €0\n",
       "369      €0\n",
       "374      €0\n",
       "375      €0\n",
       "         ..\n",
       "17220    €0\n",
       "17343    €0\n",
       "17659    €0\n",
       "17661    €0\n",
       "18205    €0\n",
       "Name: value, Length: 248, dtype: object"
      ]
     },
     "execution_count": 14,
     "metadata": {},
     "output_type": "execute_result"
    }
   ],
   "source": [
    "fifa[~fifa['value'].str.contains(re.compile(\"[MK]\"))]['value']"
   ]
  },
  {
   "cell_type": "markdown",
   "id": "4b0570c0",
   "metadata": {},
   "source": [
    "The above output tells me that all values not containing M and K are 0"
   ]
  },
  {
   "cell_type": "code",
   "execution_count": 18,
   "id": "0ca2c2a4",
   "metadata": {},
   "outputs": [],
   "source": [
    "# Remove €\n",
    "\n",
    "fifa.value = [x.replace(\"€\", \"\") for x in fifa.value]"
   ]
  },
  {
   "cell_type": "code",
   "execution_count": 22,
   "id": "eab56a2a",
   "metadata": {},
   "outputs": [],
   "source": [
    "# Calculate full values\n",
    "\n",
    "fifa.value = [str(int(float(x.replace(\"M\", \"\")) * 1000000)) if \"M\" in x else str(int(float(x.replace(\"K\", \"\")) * 1000)) for x in fifa.value]"
   ]
  },
  {
   "cell_type": "code",
   "execution_count": 23,
   "id": "12d7c5ab",
   "metadata": {},
   "outputs": [],
   "source": [
    "# Convert to int\n",
    "\n",
    "fifa.value = [int(x) for x in fifa.value]"
   ]
  },
  {
   "cell_type": "markdown",
   "id": "12417aff",
   "metadata": {},
   "source": [
    "### release_clause\n",
    "\n",
    "Should get the exact same treatment as the values col"
   ]
  },
  {
   "cell_type": "code",
   "execution_count": 28,
   "id": "127dcc29",
   "metadata": {},
   "outputs": [
    {
     "data": {
      "text/plain": [
       "205      €0\n",
       "248      €0\n",
       "254      €0\n",
       "289      €0\n",
       "292      €0\n",
       "         ..\n",
       "18472    €0\n",
       "18571    €0\n",
       "18600    €0\n",
       "18622    €0\n",
       "18680    €0\n",
       "Name: release_clause, Length: 1261, dtype: object"
      ]
     },
     "execution_count": 28,
     "metadata": {},
     "output_type": "execute_result"
    }
   ],
   "source": [
    "fifa[~fifa['release_clause'].str.contains(re.compile(\"[KM]\"))]['release_clause']"
   ]
  },
  {
   "cell_type": "code",
   "execution_count": 31,
   "id": "244a8e2b",
   "metadata": {},
   "outputs": [],
   "source": [
    "# Check for non zero values\n",
    "\n",
    "for x in fifa[~fifa['release_clause'].str.contains(re.compile(\"[KM]\"))]['release_clause']:\n",
    "    if int(x.replace(\"€\", \"\")) != 0:\n",
    "        print(x)"
   ]
  },
  {
   "cell_type": "markdown",
   "id": "80fe0a6e",
   "metadata": {},
   "source": [
    "The above tells me that like in the values col, all values not containing K or M are zero values"
   ]
  },
  {
   "cell_type": "code",
   "execution_count": 32,
   "id": "e1097f11",
   "metadata": {},
   "outputs": [],
   "source": [
    "# Remove €\n",
    "\n",
    "fifa.release_clause = [x.replace(\"€\", \"\") for x in fifa.release_clause]"
   ]
  },
  {
   "cell_type": "code",
   "execution_count": 33,
   "id": "8984b13a",
   "metadata": {},
   "outputs": [],
   "source": [
    "# Calculate full values\n",
    "\n",
    "fifa.release_clause = [str(int(float(x.replace(\"M\", \"\")) * 1000000)) if \"M\" in x else str(int(float(x.replace(\"K\", \"\")) * 1000)) for x in fifa.release_clause]"
   ]
  },
  {
   "cell_type": "code",
   "execution_count": 34,
   "id": "14a6d959",
   "metadata": {},
   "outputs": [],
   "source": [
    "# Convert to int\n",
    "\n",
    "fifa.release_clause = [int(x) for x in fifa.release_clause]"
   ]
  },
  {
   "cell_type": "markdown",
   "id": "3848efb8",
   "metadata": {},
   "source": [
    "### Success on all fronts\n",
    "\n",
    "\n",
    "# Progress\n",
    "\n",
    "Cleaned the following columns\n",
    "\n",
    "* wage\n",
    "* value\n",
    "* release_clause\n",
    "\n",
    "\n",
    "\n",
    "# Checkpoint"
   ]
  },
  {
   "cell_type": "code",
   "execution_count": 36,
   "id": "06f6d4e7",
   "metadata": {},
   "outputs": [],
   "source": [
    "fifa.to_csv(r\"C:\\Users\\T. Barnes\\Documents\\Data Science\\DataCleaningChallenge\\Working_on\\rawfifa_thor.csv\", index=False)"
   ]
  },
  {
   "cell_type": "markdown",
   "id": "a8daf182",
   "metadata": {},
   "source": [
    "# To be continued..."
   ]
  },
  {
   "cell_type": "code",
   "execution_count": null,
   "id": "a08058c2",
   "metadata": {},
   "outputs": [],
   "source": []
  }
 ],
 "metadata": {
  "kernelspec": {
   "display_name": "Python 3 (ipykernel)",
   "language": "python",
   "name": "python3"
  },
  "language_info": {
   "codemirror_mode": {
    "name": "ipython",
    "version": 3
   },
   "file_extension": ".py",
   "mimetype": "text/x-python",
   "name": "python",
   "nbconvert_exporter": "python",
   "pygments_lexer": "ipython3",
   "version": "3.10.5"
  }
 },
 "nbformat": 4,
 "nbformat_minor": 5
}
