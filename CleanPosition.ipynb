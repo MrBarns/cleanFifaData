{
 "cells": [
  {
   "cell_type": "markdown",
   "id": "42db9a4b",
   "metadata": {},
   "source": [
    "# Positions\n",
    "\n",
    "## positions\n",
    "* Get unique positions to a list\n",
    "* Ensure no errors in unique data.\n",
    "* Loop through column to verify lack of variations.\n",
    "\n",
    "## best_position\n",
    "* Get unique positions\n",
    "* Check to ensure error free data"
   ]
  },
  {
   "cell_type": "code",
   "execution_count": 1,
   "id": "10ba2cad",
   "metadata": {},
   "outputs": [],
   "source": [
    "# Imports\n",
    "\n",
    "import pandas as pd\n",
    "import numpy as np\n",
    "import re"
   ]
  },
  {
   "cell_type": "code",
   "execution_count": 2,
   "id": "837a1b6f",
   "metadata": {},
   "outputs": [
    {
     "name": "stderr",
     "output_type": "stream",
     "text": [
      "C:\\Users\\T. Barnes\\AppData\\Local\\Temp\\ipykernel_10624\\1247594384.py:3: DtypeWarning: Columns (76) have mixed types. Specify dtype option on import or set low_memory=False.\n",
      "  fifa = pd.read_csv(r\"C:\\Users\\T. Barnes\\Documents\\Data Science\\DataCleaningChallenge\\Working_on\\rawfifa_mon.csv\")\n"
     ]
    },
    {
     "data": {
      "text/html": [
       "<div>\n",
       "<style scoped>\n",
       "    .dataframe tbody tr th:only-of-type {\n",
       "        vertical-align: middle;\n",
       "    }\n",
       "\n",
       "    .dataframe tbody tr th {\n",
       "        vertical-align: top;\n",
       "    }\n",
       "\n",
       "    .dataframe thead th {\n",
       "        text-align: right;\n",
       "    }\n",
       "</style>\n",
       "<table border=\"1\" class=\"dataframe\">\n",
       "  <thead>\n",
       "    <tr style=\"text-align: right;\">\n",
       "      <th></th>\n",
       "      <th>id</th>\n",
       "      <th>name</th>\n",
       "      <th>longname</th>\n",
       "      <th>photourl</th>\n",
       "      <th>playerurl</th>\n",
       "      <th>nationality</th>\n",
       "      <th>age</th>\n",
       "      <th>ova</th>\n",
       "      <th>pot</th>\n",
       "      <th>club</th>\n",
       "      <th>...</th>\n",
       "      <th>a_w</th>\n",
       "      <th>d_w</th>\n",
       "      <th>ir</th>\n",
       "      <th>pac</th>\n",
       "      <th>sho</th>\n",
       "      <th>pas</th>\n",
       "      <th>dri</th>\n",
       "      <th>def</th>\n",
       "      <th>phy</th>\n",
       "      <th>hits</th>\n",
       "    </tr>\n",
       "  </thead>\n",
       "  <tbody>\n",
       "    <tr>\n",
       "      <th>0</th>\n",
       "      <td>158023</td>\n",
       "      <td>L. Messi</td>\n",
       "      <td>Lionel Messi</td>\n",
       "      <td>https://cdn.sofifa.com/players/158/023/21_60.png</td>\n",
       "      <td>http://sofifa.com/player/158023/lionel-messi/2...</td>\n",
       "      <td>Argentina</td>\n",
       "      <td>33</td>\n",
       "      <td>93</td>\n",
       "      <td>93</td>\n",
       "      <td>FC Barcelona</td>\n",
       "      <td>...</td>\n",
       "      <td>Medium</td>\n",
       "      <td>Low</td>\n",
       "      <td>5 ★</td>\n",
       "      <td>85</td>\n",
       "      <td>92</td>\n",
       "      <td>91</td>\n",
       "      <td>95</td>\n",
       "      <td>38</td>\n",
       "      <td>65</td>\n",
       "      <td>771</td>\n",
       "    </tr>\n",
       "    <tr>\n",
       "      <th>1</th>\n",
       "      <td>20801</td>\n",
       "      <td>Cristiano Ronaldo</td>\n",
       "      <td>C. Ronaldo dos Santos Aveiro</td>\n",
       "      <td>https://cdn.sofifa.com/players/020/801/21_60.png</td>\n",
       "      <td>http://sofifa.com/player/20801/c-ronaldo-dos-s...</td>\n",
       "      <td>Portugal</td>\n",
       "      <td>35</td>\n",
       "      <td>92</td>\n",
       "      <td>92</td>\n",
       "      <td>Juventus</td>\n",
       "      <td>...</td>\n",
       "      <td>High</td>\n",
       "      <td>Low</td>\n",
       "      <td>5 ★</td>\n",
       "      <td>89</td>\n",
       "      <td>93</td>\n",
       "      <td>81</td>\n",
       "      <td>89</td>\n",
       "      <td>35</td>\n",
       "      <td>77</td>\n",
       "      <td>562</td>\n",
       "    </tr>\n",
       "    <tr>\n",
       "      <th>2</th>\n",
       "      <td>200389</td>\n",
       "      <td>J. Oblak</td>\n",
       "      <td>Jan Oblak</td>\n",
       "      <td>https://cdn.sofifa.com/players/200/389/21_60.png</td>\n",
       "      <td>http://sofifa.com/player/200389/jan-oblak/210006/</td>\n",
       "      <td>Slovenia</td>\n",
       "      <td>27</td>\n",
       "      <td>91</td>\n",
       "      <td>93</td>\n",
       "      <td>Atlético Madrid</td>\n",
       "      <td>...</td>\n",
       "      <td>Medium</td>\n",
       "      <td>Medium</td>\n",
       "      <td>3 ★</td>\n",
       "      <td>87</td>\n",
       "      <td>92</td>\n",
       "      <td>78</td>\n",
       "      <td>90</td>\n",
       "      <td>52</td>\n",
       "      <td>90</td>\n",
       "      <td>150</td>\n",
       "    </tr>\n",
       "    <tr>\n",
       "      <th>3</th>\n",
       "      <td>192985</td>\n",
       "      <td>K. De Bruyne</td>\n",
       "      <td>Kevin De Bruyne</td>\n",
       "      <td>https://cdn.sofifa.com/players/192/985/21_60.png</td>\n",
       "      <td>http://sofifa.com/player/192985/kevin-de-bruyn...</td>\n",
       "      <td>Belgium</td>\n",
       "      <td>29</td>\n",
       "      <td>91</td>\n",
       "      <td>91</td>\n",
       "      <td>Manchester City</td>\n",
       "      <td>...</td>\n",
       "      <td>High</td>\n",
       "      <td>High</td>\n",
       "      <td>4 ★</td>\n",
       "      <td>76</td>\n",
       "      <td>86</td>\n",
       "      <td>93</td>\n",
       "      <td>88</td>\n",
       "      <td>64</td>\n",
       "      <td>78</td>\n",
       "      <td>207</td>\n",
       "    </tr>\n",
       "    <tr>\n",
       "      <th>4</th>\n",
       "      <td>190871</td>\n",
       "      <td>Neymar Jr</td>\n",
       "      <td>Neymar da Silva Santos Jr.</td>\n",
       "      <td>https://cdn.sofifa.com/players/190/871/21_60.png</td>\n",
       "      <td>http://sofifa.com/player/190871/neymar-da-silv...</td>\n",
       "      <td>Brazil</td>\n",
       "      <td>28</td>\n",
       "      <td>91</td>\n",
       "      <td>91</td>\n",
       "      <td>Paris Saint-Germain</td>\n",
       "      <td>...</td>\n",
       "      <td>High</td>\n",
       "      <td>Medium</td>\n",
       "      <td>5 ★</td>\n",
       "      <td>91</td>\n",
       "      <td>85</td>\n",
       "      <td>86</td>\n",
       "      <td>94</td>\n",
       "      <td>36</td>\n",
       "      <td>59</td>\n",
       "      <td>595</td>\n",
       "    </tr>\n",
       "  </tbody>\n",
       "</table>\n",
       "<p>5 rows × 77 columns</p>\n",
       "</div>"
      ],
      "text/plain": [
       "       id               name                      longname  \\\n",
       "0  158023           L. Messi                  Lionel Messi   \n",
       "1   20801  Cristiano Ronaldo  C. Ronaldo dos Santos Aveiro   \n",
       "2  200389           J. Oblak                     Jan Oblak   \n",
       "3  192985       K. De Bruyne               Kevin De Bruyne   \n",
       "4  190871          Neymar Jr    Neymar da Silva Santos Jr.   \n",
       "\n",
       "                                           photourl  \\\n",
       "0  https://cdn.sofifa.com/players/158/023/21_60.png   \n",
       "1  https://cdn.sofifa.com/players/020/801/21_60.png   \n",
       "2  https://cdn.sofifa.com/players/200/389/21_60.png   \n",
       "3  https://cdn.sofifa.com/players/192/985/21_60.png   \n",
       "4  https://cdn.sofifa.com/players/190/871/21_60.png   \n",
       "\n",
       "                                           playerurl nationality  age  ova  \\\n",
       "0  http://sofifa.com/player/158023/lionel-messi/2...   Argentina   33   93   \n",
       "1  http://sofifa.com/player/20801/c-ronaldo-dos-s...    Portugal   35   92   \n",
       "2  http://sofifa.com/player/200389/jan-oblak/210006/    Slovenia   27   91   \n",
       "3  http://sofifa.com/player/192985/kevin-de-bruyn...     Belgium   29   91   \n",
       "4  http://sofifa.com/player/190871/neymar-da-silv...      Brazil   28   91   \n",
       "\n",
       "   pot                 club  ...     a_w     d_w   ir pac sho  pas dri  def  \\\n",
       "0   93         FC Barcelona  ...  Medium     Low  5 ★  85  92   91  95   38   \n",
       "1   92             Juventus  ...    High     Low  5 ★  89  93   81  89   35   \n",
       "2   93      Atlético Madrid  ...  Medium  Medium  3 ★  87  92   78  90   52   \n",
       "3   91      Manchester City  ...    High    High  4 ★  76  86   93  88   64   \n",
       "4   91  Paris Saint-Germain  ...    High  Medium  5 ★  91  85   86  94   36   \n",
       "\n",
       "   phy hits  \n",
       "0   65  771  \n",
       "1   77  562  \n",
       "2   90  150  \n",
       "3   78  207  \n",
       "4   59  595  \n",
       "\n",
       "[5 rows x 77 columns]"
      ]
     },
     "execution_count": 2,
     "metadata": {},
     "output_type": "execute_result"
    }
   ],
   "source": [
    "# Load from last checkpoint\n",
    "\n",
    "fifa = pd.read_csv(r\"C:\\Users\\T. Barnes\\Documents\\Data Science\\DataCleaningChallenge\\Working_on\\rawfifa_mon.csv\")\n",
    "fifa.head()"
   ]
  },
  {
   "cell_type": "code",
   "execution_count": 3,
   "id": "983fc8b8",
   "metadata": {},
   "outputs": [
    {
     "data": {
      "text/html": [
       "<div>\n",
       "<style scoped>\n",
       "    .dataframe tbody tr th:only-of-type {\n",
       "        vertical-align: middle;\n",
       "    }\n",
       "\n",
       "    .dataframe tbody tr th {\n",
       "        vertical-align: top;\n",
       "    }\n",
       "\n",
       "    .dataframe thead th {\n",
       "        text-align: right;\n",
       "    }\n",
       "</style>\n",
       "<table border=\"1\" class=\"dataframe\">\n",
       "  <thead>\n",
       "    <tr style=\"text-align: right;\">\n",
       "      <th></th>\n",
       "      <th>positions</th>\n",
       "      <th>best_position</th>\n",
       "    </tr>\n",
       "  </thead>\n",
       "  <tbody>\n",
       "    <tr>\n",
       "      <th>0</th>\n",
       "      <td>RW, ST, CF</td>\n",
       "      <td>RW</td>\n",
       "    </tr>\n",
       "    <tr>\n",
       "      <th>1</th>\n",
       "      <td>ST, LW</td>\n",
       "      <td>ST</td>\n",
       "    </tr>\n",
       "    <tr>\n",
       "      <th>2</th>\n",
       "      <td>GK</td>\n",
       "      <td>GK</td>\n",
       "    </tr>\n",
       "    <tr>\n",
       "      <th>3</th>\n",
       "      <td>CAM, CM</td>\n",
       "      <td>CAM</td>\n",
       "    </tr>\n",
       "    <tr>\n",
       "      <th>4</th>\n",
       "      <td>LW, CAM</td>\n",
       "      <td>LW</td>\n",
       "    </tr>\n",
       "    <tr>\n",
       "      <th>...</th>\n",
       "      <td>...</td>\n",
       "      <td>...</td>\n",
       "    </tr>\n",
       "    <tr>\n",
       "      <th>18974</th>\n",
       "      <td>CB</td>\n",
       "      <td>CB</td>\n",
       "    </tr>\n",
       "    <tr>\n",
       "      <th>18975</th>\n",
       "      <td>CM</td>\n",
       "      <td>CAM</td>\n",
       "    </tr>\n",
       "    <tr>\n",
       "      <th>18976</th>\n",
       "      <td>CM</td>\n",
       "      <td>CAM</td>\n",
       "    </tr>\n",
       "    <tr>\n",
       "      <th>18977</th>\n",
       "      <td>RW</td>\n",
       "      <td>ST</td>\n",
       "    </tr>\n",
       "    <tr>\n",
       "      <th>18978</th>\n",
       "      <td>CB, LB</td>\n",
       "      <td>LB</td>\n",
       "    </tr>\n",
       "  </tbody>\n",
       "</table>\n",
       "<p>18979 rows × 2 columns</p>\n",
       "</div>"
      ],
      "text/plain": [
       "        positions best_position\n",
       "0      RW, ST, CF            RW\n",
       "1          ST, LW            ST\n",
       "2              GK            GK\n",
       "3         CAM, CM           CAM\n",
       "4         LW, CAM            LW\n",
       "...           ...           ...\n",
       "18974          CB            CB\n",
       "18975          CM           CAM\n",
       "18976          CM           CAM\n",
       "18977          RW            ST\n",
       "18978      CB, LB            LB\n",
       "\n",
       "[18979 rows x 2 columns]"
      ]
     },
     "execution_count": 3,
     "metadata": {},
     "output_type": "execute_result"
    }
   ],
   "source": [
    "fifa[['positions', 'best_position']]"
   ]
  },
  {
   "cell_type": "code",
   "execution_count": 4,
   "id": "7ab7b914",
   "metadata": {},
   "outputs": [
    {
     "data": {
      "text/plain": [
       "['CAM',\n",
       " 'CB',\n",
       " 'CDM',\n",
       " 'CF',\n",
       " 'CM',\n",
       " 'GK',\n",
       " 'LB',\n",
       " 'LM',\n",
       " 'LW',\n",
       " 'LWB',\n",
       " 'RB',\n",
       " 'RM',\n",
       " 'RW',\n",
       " 'RWB',\n",
       " 'ST']"
      ]
     },
     "execution_count": 4,
     "metadata": {},
     "output_type": "execute_result"
    }
   ],
   "source": [
    "positions = list(fifa.best_position.sort_values().unique())\n",
    "positions"
   ]
  },
  {
   "cell_type": "markdown",
   "id": "393e44fd",
   "metadata": {},
   "source": [
    "No duplicates or mispellings in the above."
   ]
  },
  {
   "cell_type": "code",
   "execution_count": 5,
   "id": "19b8e1ad",
   "metadata": {},
   "outputs": [
    {
     "data": {
      "text/plain": [
       "0"
      ]
     },
     "execution_count": 5,
     "metadata": {},
     "output_type": "execute_result"
    }
   ],
   "source": [
    "outliers = []\n",
    "\n",
    "for x in fifa.positions:\n",
    "    for y in x.split(\",\"):\n",
    "        if not(y.strip() in positions):\n",
    "            outliers.append(y.strip())\n",
    "            \n",
    "len(outliers)"
   ]
  },
  {
   "cell_type": "code",
   "execution_count": 6,
   "id": "9a43282f",
   "metadata": {},
   "outputs": [
    {
     "data": {
      "text/plain": [
       "[]"
      ]
     },
     "execution_count": 6,
     "metadata": {},
     "output_type": "execute_result"
    }
   ],
   "source": [
    "outliers"
   ]
  },
  {
   "cell_type": "markdown",
   "id": "2e2bc1a5",
   "metadata": {},
   "source": [
    "This means that the columns all contain the correct values"
   ]
  },
  {
   "cell_type": "markdown",
   "id": "27995c04",
   "metadata": {},
   "source": [
    "## preferred_foot\n",
    "\n",
    "* Same workflow as the above"
   ]
  },
  {
   "cell_type": "code",
   "execution_count": 7,
   "id": "cd95e2b2",
   "metadata": {},
   "outputs": [
    {
     "data": {
      "text/plain": [
       "['Left', 'Right']"
      ]
     },
     "execution_count": 7,
     "metadata": {},
     "output_type": "execute_result"
    }
   ],
   "source": [
    "feet = list(fifa.preferred_foot.sort_values().unique())\n",
    "feet"
   ]
  },
  {
   "cell_type": "code",
   "execution_count": 8,
   "id": "473686dd",
   "metadata": {},
   "outputs": [],
   "source": [
    "# Extra check to make sure there are no rows with two values\n",
    "# The below code will print the values of any such rows\n",
    "\n",
    "for x in fifa.preferred_foot:\n",
    "    if len(x.split(\" \")) > 1:\n",
    "        print(x)"
   ]
  },
  {
   "cell_type": "markdown",
   "id": "94cc705b",
   "metadata": {},
   "source": [
    "No output, therefore I can conclude that all is well"
   ]
  },
  {
   "cell_type": "markdown",
   "id": "b953e823",
   "metadata": {},
   "source": [
    "## height, weight\n",
    "\n",
    "* remove units from values and add to col name\n",
    "* convert to ints"
   ]
  },
  {
   "cell_type": "code",
   "execution_count": 9,
   "id": "7eaac4bd",
   "metadata": {},
   "outputs": [
    {
     "data": {
      "text/html": [
       "<div>\n",
       "<style scoped>\n",
       "    .dataframe tbody tr th:only-of-type {\n",
       "        vertical-align: middle;\n",
       "    }\n",
       "\n",
       "    .dataframe tbody tr th {\n",
       "        vertical-align: top;\n",
       "    }\n",
       "\n",
       "    .dataframe thead th {\n",
       "        text-align: right;\n",
       "    }\n",
       "</style>\n",
       "<table border=\"1\" class=\"dataframe\">\n",
       "  <thead>\n",
       "    <tr style=\"text-align: right;\">\n",
       "      <th></th>\n",
       "      <th>height</th>\n",
       "      <th>weight</th>\n",
       "    </tr>\n",
       "  </thead>\n",
       "  <tbody>\n",
       "    <tr>\n",
       "      <th>0</th>\n",
       "      <td>170cm</td>\n",
       "      <td>72kg</td>\n",
       "    </tr>\n",
       "    <tr>\n",
       "      <th>1</th>\n",
       "      <td>187cm</td>\n",
       "      <td>83kg</td>\n",
       "    </tr>\n",
       "    <tr>\n",
       "      <th>2</th>\n",
       "      <td>188cm</td>\n",
       "      <td>87kg</td>\n",
       "    </tr>\n",
       "    <tr>\n",
       "      <th>3</th>\n",
       "      <td>181cm</td>\n",
       "      <td>70kg</td>\n",
       "    </tr>\n",
       "    <tr>\n",
       "      <th>4</th>\n",
       "      <td>175cm</td>\n",
       "      <td>68kg</td>\n",
       "    </tr>\n",
       "    <tr>\n",
       "      <th>...</th>\n",
       "      <td>...</td>\n",
       "      <td>...</td>\n",
       "    </tr>\n",
       "    <tr>\n",
       "      <th>18974</th>\n",
       "      <td>178cm</td>\n",
       "      <td>66kg</td>\n",
       "    </tr>\n",
       "    <tr>\n",
       "      <th>18975</th>\n",
       "      <td>175cm</td>\n",
       "      <td>65kg</td>\n",
       "    </tr>\n",
       "    <tr>\n",
       "      <th>18976</th>\n",
       "      <td>179cm</td>\n",
       "      <td>74kg</td>\n",
       "    </tr>\n",
       "    <tr>\n",
       "      <th>18977</th>\n",
       "      <td>175cm</td>\n",
       "      <td>69kg</td>\n",
       "    </tr>\n",
       "    <tr>\n",
       "      <th>18978</th>\n",
       "      <td>188cm</td>\n",
       "      <td>75kg</td>\n",
       "    </tr>\n",
       "  </tbody>\n",
       "</table>\n",
       "<p>18979 rows × 2 columns</p>\n",
       "</div>"
      ],
      "text/plain": [
       "      height weight\n",
       "0      170cm   72kg\n",
       "1      187cm   83kg\n",
       "2      188cm   87kg\n",
       "3      181cm   70kg\n",
       "4      175cm   68kg\n",
       "...      ...    ...\n",
       "18974  178cm   66kg\n",
       "18975  175cm   65kg\n",
       "18976  179cm   74kg\n",
       "18977  175cm   69kg\n",
       "18978  188cm   75kg\n",
       "\n",
       "[18979 rows x 2 columns]"
      ]
     },
     "execution_count": 9,
     "metadata": {},
     "output_type": "execute_result"
    }
   ],
   "source": [
    "# Take a look at target cols\n",
    "\n",
    "fifa[['height', 'weight']]"
   ]
  },
  {
   "cell_type": "markdown",
   "id": "d21637b8",
   "metadata": {},
   "source": [
    "### height"
   ]
  },
  {
   "cell_type": "code",
   "execution_count": 10,
   "id": "18f402d2",
   "metadata": {},
   "outputs": [
    {
     "data": {
      "text/plain": [
       "793     6'2\"\n",
       "847     6'3\"\n",
       "848     6'5\"\n",
       "860    5'11\"\n",
       "861     6'4\"\n",
       "862     6'1\"\n",
       "863     6'0\"\n",
       "864     6'1\"\n",
       "865    5'11\"\n",
       "866     6'2\"\n",
       "867     6'0\"\n",
       "868     6'3\"\n",
       "869     6'0\"\n",
       "871    5'10\"\n",
       "872     5'9\"\n",
       "873    5'11\"\n",
       "874     5'6\"\n",
       "875     6'1\"\n",
       "876     6'0\"\n",
       "877     6'4\"\n",
       "878     5'7\"\n",
       "879     6'0\"\n",
       "880    5'11\"\n",
       "881    5'11\"\n",
       "883     6'0\"\n",
       "884    5'10\"\n",
       "885     6'3\"\n",
       "886     6'0\"\n",
       "887     5'4\"\n",
       "888    5'11\"\n",
       "889     5'9\"\n",
       "890     5'7\"\n",
       "891     6'0\"\n",
       "892    5'10\"\n",
       "893     6'2\"\n",
       "894     6'2\"\n",
       "895     6'3\"\n",
       "896     5'7\"\n",
       "897    5'10\"\n",
       "898     5'9\"\n",
       "Name: height, dtype: object"
      ]
     },
     "execution_count": 10,
     "metadata": {},
     "output_type": "execute_result"
    }
   ],
   "source": [
    "# Check if there are any rows with a different unit of measurement\n",
    "\n",
    "fifa[~fifa['height'].str.contains(\"cm\")]['height']"
   ]
  },
  {
   "cell_type": "markdown",
   "id": "355a6e2f",
   "metadata": {},
   "source": [
    "There are 40 rows where the height data is stored in feet and inches. Next steps:\n",
    "\n",
    "* convert to inches (multiply feet by 12 and add to inches value)\n",
    "* convert inches to cm"
   ]
  },
  {
   "cell_type": "code",
   "execution_count": 11,
   "id": "329633f9",
   "metadata": {},
   "outputs": [
    {
     "data": {
      "text/plain": [
       "40"
      ]
     },
     "execution_count": 11,
     "metadata": {},
     "output_type": "execute_result"
    }
   ],
   "source": [
    "# Create cm and inch lists.\n",
    "# inch * 2.54 = cm\n",
    "\n",
    "inch = []\n",
    "cm = []\n",
    "\n",
    "inch = [str((int(x.split(\"'\")[0]) * 12) + int(x.split(\"'\")[1].replace(\"\\\"\", \"\"))) for x in fifa[~fifa['height'].str.contains(\"cm\")]['height']]\n",
    "cm = [str(int(x) * 2.54) + 'cm' for x in inch]\n",
    "len(cm)"
   ]
  },
  {
   "cell_type": "markdown",
   "id": "4c45e35a",
   "metadata": {},
   "source": [
    "Not the most readable code, but it works."
   ]
  },
  {
   "cell_type": "code",
   "execution_count": 12,
   "id": "70935557",
   "metadata": {},
   "outputs": [],
   "source": [
    "# Applying the code to the main column\n",
    "\n",
    "fifa['height'] = [str(int(((int(x.split(\"'\")[0]) * 12) + int(x.split(\"'\")[1].replace(\"\\\"\", \"\"))) * 2.54))\\\n",
    "                 if \"cm\" not in x else x for x in fifa.height]"
   ]
  },
  {
   "cell_type": "code",
   "execution_count": 13,
   "id": "cb29404c",
   "metadata": {},
   "outputs": [
    {
     "data": {
      "text/plain": [
       "793    187\n",
       "847    190\n",
       "848    195\n",
       "860    180\n",
       "861    193\n",
       "862    185\n",
       "863    182\n",
       "864    185\n",
       "865    180\n",
       "866    187\n",
       "867    182\n",
       "868    190\n",
       "869    182\n",
       "871    177\n",
       "872    175\n",
       "873    180\n",
       "874    167\n",
       "875    185\n",
       "876    182\n",
       "877    193\n",
       "878    170\n",
       "879    182\n",
       "880    180\n",
       "881    180\n",
       "883    182\n",
       "884    177\n",
       "885    190\n",
       "886    182\n",
       "887    162\n",
       "888    180\n",
       "889    175\n",
       "890    170\n",
       "891    182\n",
       "892    177\n",
       "893    187\n",
       "894    187\n",
       "895    190\n",
       "896    170\n",
       "897    177\n",
       "898    175\n",
       "Name: height, dtype: object"
      ]
     },
     "execution_count": 13,
     "metadata": {},
     "output_type": "execute_result"
    }
   ],
   "source": [
    "fifa[~fifa['height'].str.contains(\"cm\")]['height']"
   ]
  },
  {
   "cell_type": "markdown",
   "id": "93f2d322",
   "metadata": {},
   "source": [
    "It works. All that remains is to remove 'cm' from the values and change everything to int types"
   ]
  },
  {
   "cell_type": "code",
   "execution_count": 13,
   "id": "709fb450",
   "metadata": {
    "scrolled": false
   },
   "outputs": [],
   "source": [
    "# This removes 'cm' and changes data type to int\n",
    "\n",
    "fifa.height = [int(x.replace(\"cm\", \"\")) for x in fifa.height]"
   ]
  },
  {
   "cell_type": "code",
   "execution_count": 14,
   "id": "0545a89e",
   "metadata": {
    "scrolled": true
   },
   "outputs": [
    {
     "data": {
      "text/plain": [
       "0        170\n",
       "1        187\n",
       "2        188\n",
       "3        181\n",
       "4        175\n",
       "        ... \n",
       "18974    178\n",
       "18975    175\n",
       "18976    179\n",
       "18977    175\n",
       "18978    188\n",
       "Name: height, Length: 18979, dtype: int64"
      ]
     },
     "execution_count": 14,
     "metadata": {},
     "output_type": "execute_result"
    }
   ],
   "source": [
    "fifa.height"
   ]
  },
  {
   "cell_type": "markdown",
   "id": "ce191999",
   "metadata": {},
   "source": [
    "### weight"
   ]
  },
  {
   "cell_type": "code",
   "execution_count": 16,
   "id": "9fcedca5",
   "metadata": {},
   "outputs": [
    {
     "data": {
      "text/plain": [
       "793    183lbs\n",
       "847    179lbs\n",
       "848    183lbs\n",
       "860    172lbs\n",
       "861    196lbs\n",
       "862    176lbs\n",
       "863    185lbs\n",
       "864    179lbs\n",
       "865    170lbs\n",
       "866    196lbs\n",
       "867    172lbs\n",
       "868    203lbs\n",
       "869    183lbs\n",
       "871    168lbs\n",
       "872    161lbs\n",
       "873    146lbs\n",
       "874    130lbs\n",
       "875    190lbs\n",
       "876    172lbs\n",
       "877    174lbs\n",
       "878    148lbs\n",
       "879    165lbs\n",
       "880    172lbs\n",
       "881    161lbs\n",
       "883    159lbs\n",
       "884    170lbs\n",
       "885    192lbs\n",
       "886    181lbs\n",
       "887    139lbs\n",
       "888    154lbs\n",
       "889    168lbs\n",
       "890    170lbs\n",
       "891    165lbs\n",
       "892    157lbs\n",
       "893    159lbs\n",
       "894    181lbs\n",
       "895    179lbs\n",
       "896    148lbs\n",
       "897    170lbs\n",
       "898    163lbs\n",
       "Name: weight, dtype: object"
      ]
     },
     "execution_count": 16,
     "metadata": {},
     "output_type": "execute_result"
    }
   ],
   "source": [
    "# Check for rows with a different unit of measurement\n",
    "\n",
    "fifa[~fifa.weight.str.contains(\"kg\")]['weight']"
   ]
  },
  {
   "cell_type": "markdown",
   "id": "1cc0ce7b",
   "metadata": {},
   "source": [
    "We have some weights recorded in pounds. Quick converstion to kg and then I can change data types"
   ]
  },
  {
   "cell_type": "code",
   "execution_count": 15,
   "id": "30854496",
   "metadata": {},
   "outputs": [
    {
     "data": {
      "text/plain": [
       "793    83\n",
       "847    81\n",
       "848    83\n",
       "860    78\n",
       "861    88\n",
       "862    79\n",
       "863    83\n",
       "864    81\n",
       "865    77\n",
       "866    88\n",
       "867    78\n",
       "868    92\n",
       "869    83\n",
       "871    76\n",
       "872    73\n",
       "873    66\n",
       "874    58\n",
       "875    86\n",
       "876    78\n",
       "877    78\n",
       "878    67\n",
       "879    74\n",
       "880    78\n",
       "881    73\n",
       "883    72\n",
       "884    77\n",
       "885    87\n",
       "886    82\n",
       "887    63\n",
       "888    69\n",
       "889    76\n",
       "890    77\n",
       "891    74\n",
       "892    71\n",
       "893    72\n",
       "894    82\n",
       "895    81\n",
       "896    67\n",
       "897    77\n",
       "898    73\n",
       "Name: weight, dtype: object"
      ]
     },
     "execution_count": 15,
     "metadata": {},
     "output_type": "execute_result"
    }
   ],
   "source": [
    "# Convert pounds to kg\n",
    "# lbs * 0.453592 = kg\n",
    "\n",
    "fifa.weight = [str(int(int(x.replace(\"lbs\", \"\")) * 0.453592)) if \"kg\" not in x else x for x in fifa.weight]\n",
    "fifa[~fifa.weight.str.contains(\"kg\")]['weight']"
   ]
  },
  {
   "cell_type": "code",
   "execution_count": 16,
   "id": "3bdfa69a",
   "metadata": {},
   "outputs": [
    {
     "data": {
      "text/plain": [
       "0        72\n",
       "1        83\n",
       "2        87\n",
       "3        70\n",
       "4        68\n",
       "         ..\n",
       "18974    66\n",
       "18975    65\n",
       "18976    74\n",
       "18977    69\n",
       "18978    75\n",
       "Name: weight, Length: 18979, dtype: int64"
      ]
     },
     "execution_count": 16,
     "metadata": {},
     "output_type": "execute_result"
    }
   ],
   "source": [
    "# Convert to int\n",
    "\n",
    "fifa.weight = [int(x.replace(\"kg\", \"\")) for x in fifa.weight]\n",
    "fifa.weight"
   ]
  },
  {
   "cell_type": "markdown",
   "id": "83c7a2e5",
   "metadata": {},
   "source": [
    "### Change column headers"
   ]
  },
  {
   "cell_type": "code",
   "execution_count": 18,
   "id": "daf0b8b2",
   "metadata": {},
   "outputs": [],
   "source": [
    "fifa.rename(columns={\"weight\": \"weight_kg\", \"height\": \"height_cm\"}, inplace=True)"
   ]
  },
  {
   "cell_type": "code",
   "execution_count": 19,
   "id": "79d86954",
   "metadata": {
    "scrolled": true
   },
   "outputs": [
    {
     "data": {
      "text/html": [
       "<div>\n",
       "<style scoped>\n",
       "    .dataframe tbody tr th:only-of-type {\n",
       "        vertical-align: middle;\n",
       "    }\n",
       "\n",
       "    .dataframe tbody tr th {\n",
       "        vertical-align: top;\n",
       "    }\n",
       "\n",
       "    .dataframe thead th {\n",
       "        text-align: right;\n",
       "    }\n",
       "</style>\n",
       "<table border=\"1\" class=\"dataframe\">\n",
       "  <thead>\n",
       "    <tr style=\"text-align: right;\">\n",
       "      <th></th>\n",
       "      <th>weight_kg</th>\n",
       "      <th>height_cm</th>\n",
       "    </tr>\n",
       "  </thead>\n",
       "  <tbody>\n",
       "    <tr>\n",
       "      <th>0</th>\n",
       "      <td>72</td>\n",
       "      <td>170</td>\n",
       "    </tr>\n",
       "    <tr>\n",
       "      <th>1</th>\n",
       "      <td>83</td>\n",
       "      <td>187</td>\n",
       "    </tr>\n",
       "    <tr>\n",
       "      <th>2</th>\n",
       "      <td>87</td>\n",
       "      <td>188</td>\n",
       "    </tr>\n",
       "    <tr>\n",
       "      <th>3</th>\n",
       "      <td>70</td>\n",
       "      <td>181</td>\n",
       "    </tr>\n",
       "    <tr>\n",
       "      <th>4</th>\n",
       "      <td>68</td>\n",
       "      <td>175</td>\n",
       "    </tr>\n",
       "    <tr>\n",
       "      <th>...</th>\n",
       "      <td>...</td>\n",
       "      <td>...</td>\n",
       "    </tr>\n",
       "    <tr>\n",
       "      <th>18974</th>\n",
       "      <td>66</td>\n",
       "      <td>178</td>\n",
       "    </tr>\n",
       "    <tr>\n",
       "      <th>18975</th>\n",
       "      <td>65</td>\n",
       "      <td>175</td>\n",
       "    </tr>\n",
       "    <tr>\n",
       "      <th>18976</th>\n",
       "      <td>74</td>\n",
       "      <td>179</td>\n",
       "    </tr>\n",
       "    <tr>\n",
       "      <th>18977</th>\n",
       "      <td>69</td>\n",
       "      <td>175</td>\n",
       "    </tr>\n",
       "    <tr>\n",
       "      <th>18978</th>\n",
       "      <td>75</td>\n",
       "      <td>188</td>\n",
       "    </tr>\n",
       "  </tbody>\n",
       "</table>\n",
       "<p>18979 rows × 2 columns</p>\n",
       "</div>"
      ],
      "text/plain": [
       "       weight_kg  height_cm\n",
       "0             72        170\n",
       "1             83        187\n",
       "2             87        188\n",
       "3             70        181\n",
       "4             68        175\n",
       "...          ...        ...\n",
       "18974         66        178\n",
       "18975         65        175\n",
       "18976         74        179\n",
       "18977         69        175\n",
       "18978         75        188\n",
       "\n",
       "[18979 rows x 2 columns]"
      ]
     },
     "execution_count": 19,
     "metadata": {},
     "output_type": "execute_result"
    }
   ],
   "source": [
    "fifa[['weight_kg', 'height_cm']]"
   ]
  },
  {
   "cell_type": "markdown",
   "id": "ff4f1e67",
   "metadata": {},
   "source": [
    "Success on all fronts!\n",
    "\n",
    "\n",
    "# Checkpoint"
   ]
  },
  {
   "cell_type": "code",
   "execution_count": 20,
   "id": "dcab60e5",
   "metadata": {},
   "outputs": [],
   "source": [
    "fifa.to_csv(r\"C:\\Users\\T. Barnes\\Documents\\Data Science\\DataCleaningChallenge\\Working_on\\rawfifa_wed.csv\", index=False)"
   ]
  },
  {
   "cell_type": "markdown",
   "id": "d01f9ac1",
   "metadata": {},
   "source": [
    "# Progress\n",
    "\n",
    "Cleaned the following columns\n",
    "\n",
    "* positions\n",
    "* best_position\n",
    "* preferred_foot\n",
    "* height\n",
    "* weight\n",
    "\n",
    "\n",
    "## To be continued..."
   ]
  },
  {
   "cell_type": "code",
   "execution_count": null,
   "id": "2539e846",
   "metadata": {},
   "outputs": [],
   "source": []
  }
 ],
 "metadata": {
  "kernelspec": {
   "display_name": "Python 3 (ipykernel)",
   "language": "python",
   "name": "python3"
  },
  "language_info": {
   "codemirror_mode": {
    "name": "ipython",
    "version": 3
   },
   "file_extension": ".py",
   "mimetype": "text/x-python",
   "name": "python",
   "nbconvert_exporter": "python",
   "pygments_lexer": "ipython3",
   "version": "3.10.5"
  }
 },
 "nbformat": 4,
 "nbformat_minor": 5
}
