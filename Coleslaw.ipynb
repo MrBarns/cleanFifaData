{
 "cells": [
  {
   "cell_type": "markdown",
   "id": "cfbd231a",
   "metadata": {},
   "source": [
    "# Coleslaw function\n",
    "\n",
    "This is a copy of the Coleslaw function for use during the rest of the cleaning process, should the need arise"
   ]
  },
  {
   "cell_type": "code",
   "execution_count": 1,
   "id": "93a9e61a",
   "metadata": {},
   "outputs": [],
   "source": [
    "# Imports\n",
    "\n",
    "import re"
   ]
  },
  {
   "cell_type": "code",
   "execution_count": 2,
   "id": "16b8e2d0",
   "metadata": {},
   "outputs": [],
   "source": [
    "# Copy doc to string variable\n",
    "\n",
    "strdoc = \"\"\"photoUrl: The URL of the player's photo.\n",
    "LongName: The full name of the player.\n",
    "playerUrl: The URL of the player's page on sofifa.com.\n",
    "Nationality: The nationality of the player.\n",
    "Positions: The positions the player can play.\n",
    "Name: The short name of the player.\n",
    "Age: The age of the player.\n",
    "OVA: The overall rating of the player in FIFA 21.\n",
    "POT: The potential rating of the player in FIFA 21.\n",
    "Team & Contract: The team the player is playing for in FIFA 21, along with their contract details.\n",
    "ID: The unique identifier for the player.\n",
    "Height: The height of the player in feet and inches.\n",
    "Weight: The weight of the player in pounds.\n",
    "Preferred foot: The preferred foot of the player.\n",
    "BOV: The best overall rating the player has achieved in their career.\n",
    "Best Position: The best position the player has played in their career.\n",
    "Growth: The difference between the potential rating and overall rating of the player.\n",
    "Joined: The date the player joined their current team in FIFA 21.\n",
    "Loan Date End: The date the player's loan contract ends.\n",
    "Value: The market value of the player in FIFA 21.\n",
    "Wage: The weekly wage of the player in FIFA 21.\n",
    "Release Clause: The release clause value of the player in FIFA 21.\n",
    "Attacking: The attacking attributes of the player.\n",
    "Crossing: The crossing attribute of the player.\n",
    "Finishing: The finishing attribute of the player.\n",
    "Heading Accuracy: The heading accuracy attribute of the player.\n",
    "Short Passing: The short passing attribute of the player.\n",
    "Volleys: The volleys attribute of the player.\n",
    "Skill: The skill attributes of the player.\n",
    "Dribbling: The dribbling attribute of the player.\n",
    "Curve: The curve attribute of the player.\n",
    "FK Accuracy: The free kick accuracy attribute of the player.\n",
    "Long Passing: The long passing attribute of the player.\n",
    "Ball Control: The ball control attribute of the player.\n",
    "Movement: The movement attributes of the player.\n",
    "Acceleration: The acceleration attribute of the player.\n",
    "Sprint Speed: The sprint speed attribute of the player.\n",
    "Agility: The agility attribute of the player.\n",
    "Reactions: The reactions attribute of the player.\n",
    "Balance: The balance attribute of the player.\n",
    "Power: The power attributes of the player.\n",
    "Shot Power: The shot power attribute of the player.\n",
    "Jumping: The jumping attribute of the player.\n",
    "Stamina: The stamina attribute of the player.\n",
    "Strength: The strength attribute of the player.\n",
    "Long Shots: The long shots attribute of the player.\n",
    "Mentality: The mentality attributes of the player.\n",
    "Aggression: The aggression attribute of the player.\n",
    "Interceptions: The interceptions attribute of the player.\n",
    "Positioning: The positioning attribute of the player.\n",
    "Vision: The vision attribute of the player.\n",
    "Penalties: The penalties attribute of the player.\n",
    "Composure: The composure attribute of the player.\n",
    "Defending: The defending attributes of the player.\n",
    "Marking: The marking attribute of the player.\n",
    "Standing Tackle: The standing tackle attribute of the player.\n",
    "Sliding Tackle: The sliding tackle attribute of the player.\n",
    "Goalkeeping: The goalkeeping attributes of the player.\n",
    "GK Diving: The goalkeeper diving attribute of the player.\n",
    "GK Handling: The goalkeeper handling attribute of the player.\n",
    "GK Kicking: The goalkeeper kicking attribute of the player.\n",
    "GK Positioning: The goalkeeper positioning attribute of the player.\n",
    "GK Reflexes: This refers to the goalkeeper's ability to react and make saves quickly.\n",
    "Total Stats: This refers to the overall rating of the player based on their performance in all areas of the game.\n",
    "Base Stats: This refers to the player's rating in the six main areas of the game: Pace, Shooting, Passing, Dribbling, Defending, and Physicality.\n",
    "W/F: This refers to the player's weaker foot ability.\n",
    "SM: This refers to the player's skill moves ability.\n",
    "A/W: This refers to the player's attacking work rate. It measures how frequently the player participates in attacking actions, such as making runs or positioning themselves in the opponent's half.\n",
    "D/W: This refers to the player's defensive work rate. It measures how frequently the player participates in defensive actions, such as tracking back or making tackles.\n",
    "IR: This refers to the player's injury resistance. It measures the player's ability to avoid injuries and how quickly they recover from them.\n",
    "PAC: This refers to the player's pace or speed attribute. It measures how quickly the player can move with and without the ball.\n",
    "SHO: This refers to the player's shooting ability. It measures the player's accuracy and power when shooting the ball.\n",
    "PAS: This refers to the player's passing ability. It measures the player's accuracy and range when passing the ball.\n",
    "DRI: This refers to the player's dribbling ability. It measures the player's agility, balance, and ball control when dribbling the ball.\n",
    "DEF: This refers to the player's defensive ability. It measures the player's ability to tackle, intercept, and defend against opposing players.\n",
    "PHY: This refers to the player's physicality or strength. It measures the player's ability to win physical battles and maintain possession of the ball.\n",
    "Hits: This refers to the number of times the player's profile has been viewed on the website.\"\"\"\n",
    "\n"
   ]
  },
  {
   "cell_type": "code",
   "execution_count": 3,
   "id": "aa45aeed",
   "metadata": {},
   "outputs": [
    {
     "data": {
      "text/plain": [
       "77"
      ]
     },
     "execution_count": 3,
     "metadata": {},
     "output_type": "execute_result"
    }
   ],
   "source": [
    "# Split string into list of key-value pairs\n",
    "\n",
    "keyvalues = strdoc.split(\".\\n\")\n",
    "\n",
    "# Use dict comprehension to loop through list for dictionary\n",
    "\n",
    "docdict = {re.sub(\"[^a-zA-Z]\", \"_\", x.split(\": \")[0]).replace(\"___\", \"_\").lower(): x.split(\": \")[1] for x in keyvalues}\n",
    "len(docdict)"
   ]
  },
  {
   "cell_type": "code",
   "execution_count": 4,
   "id": "a5a470ad",
   "metadata": {},
   "outputs": [],
   "source": [
    "# Define function\n",
    "\n",
    "def coleslaw(col):\n",
    "    \n",
    "    if col in docdict.keys():\n",
    "        print(docdict[col])\n",
    "    \n",
    "    else:\n",
    "        print(\"(in Tchalla's voice): We don't have that here\")"
   ]
  },
  {
   "cell_type": "code",
   "execution_count": 5,
   "id": "b1b84371",
   "metadata": {},
   "outputs": [],
   "source": [
    "# Fifa columns listed for convenience\n",
    "\n",
    "cols = ['id', 'name', 'longname', 'photourl', 'playerurl', 'nationality', 'age',\n",
    "       'ova', 'pot', 'club', 'contract', 'positions', 'height', 'weight',\n",
    "       'preferred_foot', 'bov', 'best_position', 'joined', 'loan_date_end',\n",
    "       'value', 'wage', 'release_clause', 'attacking', 'crossing', 'finishing',\n",
    "       'heading_accuracy', 'short_passing', 'volleys', 'skill', 'dribbling',\n",
    "       'curve', 'fk_accuracy', 'long_passing', 'ball_control', 'movement',\n",
    "       'acceleration', 'sprint_speed', 'agility', 'reactions', 'balance',\n",
    "       'power', 'shot_power', 'jumping', 'stamina', 'strength', 'long_shots',\n",
    "       'mentality', 'aggression', 'interceptions', 'positioning', 'vision',\n",
    "       'penalties', 'composure', 'defending', 'marking', 'standing_tackle',\n",
    "       'sliding_tackle', 'goalkeeping', 'gk_diving', 'gk_handling',\n",
    "       'gk_kicking', 'gk_positioning', 'gk_reflexes', 'total_stats',\n",
    "       'base_stats', 'w_f', 'sm', 'a_w', 'd_w', 'ir', 'pac', 'sho', 'pas',\n",
    "       'dri', 'def', 'phy', 'hits']"
   ]
  },
  {
   "cell_type": "code",
   "execution_count": 9,
   "id": "7c681046",
   "metadata": {
    "scrolled": true
   },
   "outputs": [
    {
     "ename": "KeyboardInterrupt",
     "evalue": "Interrupted by user",
     "output_type": "error",
     "traceback": [
      "\u001b[1;31m---------------------------------------------------------------------------\u001b[0m",
      "\u001b[1;31mKeyboardInterrupt\u001b[0m                         Traceback (most recent call last)",
      "Input \u001b[1;32mIn [9]\u001b[0m, in \u001b[0;36m<cell line: 3>\u001b[1;34m()\u001b[0m\n\u001b[0;32m      1\u001b[0m \u001b[38;5;66;03m# Call function\u001b[39;00m\n\u001b[1;32m----> 3\u001b[0m column \u001b[38;5;241m=\u001b[39m \u001b[38;5;28mstr\u001b[39m(\u001b[38;5;28;43minput\u001b[39;49m\u001b[43m(\u001b[49m\u001b[38;5;124;43m\"\u001b[39;49m\u001b[38;5;124;43mInput column name (without quotes): \u001b[39;49m\u001b[38;5;124;43m\"\u001b[39;49m\u001b[43m)\u001b[49m)\n\u001b[0;32m      6\u001b[0m coleslaw(column)\n",
      "File \u001b[1;32m~\\AppData\\Roaming\\Python\\Python310\\site-packages\\ipykernel\\kernelbase.py:1177\u001b[0m, in \u001b[0;36mKernel.raw_input\u001b[1;34m(self, prompt)\u001b[0m\n\u001b[0;32m   1173\u001b[0m \u001b[38;5;28;01mif\u001b[39;00m \u001b[38;5;129;01mnot\u001b[39;00m \u001b[38;5;28mself\u001b[39m\u001b[38;5;241m.\u001b[39m_allow_stdin:\n\u001b[0;32m   1174\u001b[0m     \u001b[38;5;28;01mraise\u001b[39;00m StdinNotImplementedError(\n\u001b[0;32m   1175\u001b[0m         \u001b[38;5;124m\"\u001b[39m\u001b[38;5;124mraw_input was called, but this frontend does not support input requests.\u001b[39m\u001b[38;5;124m\"\u001b[39m\n\u001b[0;32m   1176\u001b[0m     )\n\u001b[1;32m-> 1177\u001b[0m \u001b[38;5;28;01mreturn\u001b[39;00m \u001b[38;5;28;43mself\u001b[39;49m\u001b[38;5;241;43m.\u001b[39;49m\u001b[43m_input_request\u001b[49m\u001b[43m(\u001b[49m\n\u001b[0;32m   1178\u001b[0m \u001b[43m    \u001b[49m\u001b[38;5;28;43mstr\u001b[39;49m\u001b[43m(\u001b[49m\u001b[43mprompt\u001b[49m\u001b[43m)\u001b[49m\u001b[43m,\u001b[49m\n\u001b[0;32m   1179\u001b[0m \u001b[43m    \u001b[49m\u001b[38;5;28;43mself\u001b[39;49m\u001b[38;5;241;43m.\u001b[39;49m\u001b[43m_parent_ident\u001b[49m\u001b[43m[\u001b[49m\u001b[38;5;124;43m\"\u001b[39;49m\u001b[38;5;124;43mshell\u001b[39;49m\u001b[38;5;124;43m\"\u001b[39;49m\u001b[43m]\u001b[49m\u001b[43m,\u001b[49m\n\u001b[0;32m   1180\u001b[0m \u001b[43m    \u001b[49m\u001b[38;5;28;43mself\u001b[39;49m\u001b[38;5;241;43m.\u001b[39;49m\u001b[43mget_parent\u001b[49m\u001b[43m(\u001b[49m\u001b[38;5;124;43m\"\u001b[39;49m\u001b[38;5;124;43mshell\u001b[39;49m\u001b[38;5;124;43m\"\u001b[39;49m\u001b[43m)\u001b[49m\u001b[43m,\u001b[49m\n\u001b[0;32m   1181\u001b[0m \u001b[43m    \u001b[49m\u001b[43mpassword\u001b[49m\u001b[38;5;241;43m=\u001b[39;49m\u001b[38;5;28;43;01mFalse\u001b[39;49;00m\u001b[43m,\u001b[49m\n\u001b[0;32m   1182\u001b[0m \u001b[43m\u001b[49m\u001b[43m)\u001b[49m\n",
      "File \u001b[1;32m~\\AppData\\Roaming\\Python\\Python310\\site-packages\\ipykernel\\kernelbase.py:1219\u001b[0m, in \u001b[0;36mKernel._input_request\u001b[1;34m(self, prompt, ident, parent, password)\u001b[0m\n\u001b[0;32m   1216\u001b[0m             \u001b[38;5;28;01mbreak\u001b[39;00m\n\u001b[0;32m   1217\u001b[0m \u001b[38;5;28;01mexcept\u001b[39;00m \u001b[38;5;167;01mKeyboardInterrupt\u001b[39;00m:\n\u001b[0;32m   1218\u001b[0m     \u001b[38;5;66;03m# re-raise KeyboardInterrupt, to truncate traceback\u001b[39;00m\n\u001b[1;32m-> 1219\u001b[0m     \u001b[38;5;28;01mraise\u001b[39;00m \u001b[38;5;167;01mKeyboardInterrupt\u001b[39;00m(\u001b[38;5;124m\"\u001b[39m\u001b[38;5;124mInterrupted by user\u001b[39m\u001b[38;5;124m\"\u001b[39m) \u001b[38;5;28;01mfrom\u001b[39;00m \u001b[38;5;28mNone\u001b[39m\n\u001b[0;32m   1220\u001b[0m \u001b[38;5;28;01mexcept\u001b[39;00m \u001b[38;5;167;01mException\u001b[39;00m:\n\u001b[0;32m   1221\u001b[0m     \u001b[38;5;28mself\u001b[39m\u001b[38;5;241m.\u001b[39mlog\u001b[38;5;241m.\u001b[39mwarning(\u001b[38;5;124m\"\u001b[39m\u001b[38;5;124mInvalid Message:\u001b[39m\u001b[38;5;124m\"\u001b[39m, exc_info\u001b[38;5;241m=\u001b[39m\u001b[38;5;28;01mTrue\u001b[39;00m)\n",
      "\u001b[1;31mKeyboardInterrupt\u001b[0m: Interrupted by user"
     ]
    }
   ],
   "source": [
    "# Call function\n",
    "\n",
    "column = str(input(\"Input column name (without quotes): \"))\n",
    "\n",
    "\n",
    "coleslaw(column)"
   ]
  },
  {
   "cell_type": "markdown",
   "id": "d62d5812",
   "metadata": {},
   "source": [
    "Done."
   ]
  }
 ],
 "metadata": {
  "kernelspec": {
   "display_name": "Python 3 (ipykernel)",
   "language": "python",
   "name": "python3"
  },
  "language_info": {
   "codemirror_mode": {
    "name": "ipython",
    "version": 3
   },
   "file_extension": ".py",
   "mimetype": "text/x-python",
   "name": "python",
   "nbconvert_exporter": "python",
   "pygments_lexer": "ipython3",
   "version": "3.10.5"
  }
 },
 "nbformat": 4,
 "nbformat_minor": 5
}
